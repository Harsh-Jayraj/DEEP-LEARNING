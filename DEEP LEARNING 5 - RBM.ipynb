{
 "cells": [
  {
   "cell_type": "code",
   "execution_count": 1,
   "metadata": {},
   "outputs": [],
   "source": [
    "import numpy as np\n",
    "import matplotlib.pyplot as plt"
   ]
  },
  {
   "cell_type": "code",
   "execution_count": 7,
   "metadata": {},
   "outputs": [],
   "source": [
    "from scipy.ndimage import convolve\n",
    "from sklearn import linear_model , datasets, metrics\n",
    "from sklearn.model_selection import train_test_split\n",
    "from sklearn.pipeline import Pipeline\n",
    "from sklearn.neural_network import BernoulliRBM"
   ]
  },
  {
   "cell_type": "code",
   "execution_count": 16,
   "metadata": {},
   "outputs": [],
   "source": [
    "X,Y = datasets.load_digits(return_X_y=True)\n",
    "X=np.array(X,'float32')\n",
    "X= (X - np.min(X,0))/(np.max(X,0)+0.0001)"
   ]
  },
  {
   "cell_type": "code",
   "execution_count": 19,
   "metadata": {},
   "outputs": [],
   "source": [
    "X_train, X_test,y_train ,y_test = train_test_split(X,Y,test_size=0.2,random_state=42)"
   ]
  },
  {
   "cell_type": "code",
   "execution_count": 22,
   "metadata": {},
   "outputs": [
    {
     "name": "stdout",
     "output_type": "stream",
     "text": [
      "(1437, 64) (1437,)\n",
      "(360, 64) (360,)\n"
     ]
    }
   ],
   "source": [
    "print(X_train.shape,y_train.shape)\n",
    "print(X_test.shape,y_test.shape)"
   ]
  },
  {
   "cell_type": "code",
   "execution_count": 23,
   "metadata": {},
   "outputs": [],
   "source": [
    "logistic=linear_model.LogisticRegression(solver='newton-cg', tol=1)\n",
    "rbm = BernoulliRBM(random_state=0,verbose=True)\n",
    "rbm_features_classifier= Pipeline(steps=[('rbm',rbm),('logistic',logistic)])"
   ]
  },
  {
   "cell_type": "code",
   "execution_count": 24,
   "metadata": {},
   "outputs": [
    {
     "name": "stdout",
     "output_type": "stream",
     "text": [
      "[BernoulliRBM] Iteration 1, pseudo-likelihood = -27.36, time = 0.14s\n",
      "[BernoulliRBM] Iteration 2, pseudo-likelihood = -26.60, time = 0.14s\n",
      "[BernoulliRBM] Iteration 3, pseudo-likelihood = -25.50, time = 0.13s\n",
      "[BernoulliRBM] Iteration 4, pseudo-likelihood = -24.22, time = 0.11s\n",
      "[BernoulliRBM] Iteration 5, pseudo-likelihood = -23.16, time = 0.23s\n",
      "[BernoulliRBM] Iteration 6, pseudo-likelihood = -22.61, time = 0.11s\n",
      "[BernoulliRBM] Iteration 7, pseudo-likelihood = -22.38, time = 0.11s\n",
      "[BernoulliRBM] Iteration 8, pseudo-likelihood = -22.04, time = 0.13s\n",
      "[BernoulliRBM] Iteration 9, pseudo-likelihood = -22.05, time = 0.13s\n",
      "[BernoulliRBM] Iteration 10, pseudo-likelihood = -21.81, time = 0.12s\n",
      "[BernoulliRBM] Iteration 11, pseudo-likelihood = -22.12, time = 0.13s\n",
      "[BernoulliRBM] Iteration 12, pseudo-likelihood = -21.40, time = 0.12s\n",
      "[BernoulliRBM] Iteration 13, pseudo-likelihood = -21.70, time = 0.14s\n",
      "[BernoulliRBM] Iteration 14, pseudo-likelihood = -20.80, time = 0.12s\n",
      "[BernoulliRBM] Iteration 15, pseudo-likelihood = -21.15, time = 0.12s\n"
     ]
    }
   ],
   "source": [
    "rbm.learning_rate=0.06\n",
    "rbm.n_iter=15\n",
    "rbm.n_components = 100\n",
    "logistic.C = 6000\n",
    "r=rbm_features_classifier.fit(X_train,y_train)"
   ]
  },
  {
   "cell_type": "code",
   "execution_count": 25,
   "metadata": {},
   "outputs": [
    {
     "name": "stdout",
     "output_type": "stream",
     "text": [
      "Logistic regression using RBM features :\n",
      "              precision    recall  f1-score   support\n",
      "\n",
      "           0       0.97      0.97      0.97        33\n",
      "           1       0.93      1.00      0.96        26\n",
      "           2       1.00      0.87      0.93        38\n",
      "           3       0.94      1.00      0.97        32\n",
      "           4       1.00      1.00      1.00        46\n",
      "           5       0.87      0.91      0.89        45\n",
      "           6       0.97      0.97      0.97        35\n",
      "           7       0.97      0.97      0.97        34\n",
      "           8       0.90      0.90      0.90        30\n",
      "           9       0.85      0.83      0.84        41\n",
      "\n",
      "    accuracy                           0.94       360\n",
      "   macro avg       0.94      0.94      0.94       360\n",
      "weighted avg       0.94      0.94      0.94       360\n",
      "\n",
      "\n"
     ]
    }
   ],
   "source": [
    "y_pred = rbm_features_classifier.predict(X_test)\n",
    "print('Logistic regression using RBM features :\\n%s\\n'%(metrics.classification_report(y_pred,y_test)))"
   ]
  },
  {
   "cell_type": "code",
   "execution_count": 26,
   "metadata": {},
   "outputs": [
    {
     "name": "stdout",
     "output_type": "stream",
     "text": [
      "Logistic regression using RBM features :\n",
      "0.9388888888888889\n",
      "\n"
     ]
    }
   ],
   "source": [
    "print('Logistic regression using RBM features :\\n%s\\n'%(metrics.accuracy_score(y_pred,y_test)))"
   ]
  },
  {
   "cell_type": "code",
   "execution_count": null,
   "metadata": {},
   "outputs": [],
   "source": []
  }
 ],
 "metadata": {
  "kernelspec": {
   "display_name": "Python 3",
   "language": "python",
   "name": "python3"
  },
  "language_info": {
   "codemirror_mode": {
    "name": "ipython",
    "version": 3
   },
   "file_extension": ".py",
   "mimetype": "text/x-python",
   "name": "python",
   "nbconvert_exporter": "python",
   "pygments_lexer": "ipython3",
   "version": "3.8.3"
  }
 },
 "nbformat": 4,
 "nbformat_minor": 4
}
